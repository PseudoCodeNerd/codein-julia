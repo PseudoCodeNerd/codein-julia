{
 "cells": [
  {
   "cell_type": "markdown",
   "metadata": {},
   "source": [
    "## PIL(6.1) & scikit-image (0.16.2) Benchmark File 2 Source"
   ]
  },
  {
   "cell_type": "code",
   "execution_count": 51,
   "metadata": {},
   "outputs": [],
   "source": [
    "import PIL\n",
    "import timeit\n",
    "from PIL import Image"
   ]
  },
  {
   "cell_type": "markdown",
   "metadata": {},
   "source": [
    "## Test 1: Loading Images"
   ]
  },
  {
   "cell_type": "code",
   "execution_count": 53,
   "metadata": {},
   "outputs": [
    {
     "name": "stdout",
     "output_type": "stream",
     "text": [
      "0.248 ms\n"
     ]
    }
   ],
   "source": [
    "s = \"\"\"\\\n",
    "img = Image.open(\"img/mountainstream.png\")\n",
    "\"\"\"\n",
    "\n",
    "print(str(round((timeit.timeit(stmt = s, setup = \"from PIL import Image\", number = 46)/46)*1000, 3)) + \" ms\")"
   ]
  },
  {
   "cell_type": "markdown",
   "metadata": {},
   "source": [
    "## Test 3: Saving Images"
   ]
  },
  {
   "cell_type": "code",
   "execution_count": 54,
   "metadata": {},
   "outputs": [
    {
     "name": "stdout",
     "output_type": "stream",
     "text": [
      "174.674 ms\n"
     ]
    }
   ],
   "source": [
    "s = \"\"\"\\\n",
    "img.save(\"copy_PIL.png\")\n",
    "\"\"\"\n",
    "\n",
    "setup = \"\"\"\\\n",
    "from PIL import Image\n",
    "img = Image.open(\"img/mountainstream.png\")\n",
    "\"\"\"\n",
    "\n",
    "print(str(round((timeit.timeit(stmt = s, setup = setup, number = 16)/16)*1000, 3)) + \" ms\")"
   ]
  },
  {
   "cell_type": "markdown",
   "metadata": {},
   "source": [
    "## Test 2:  Resizing Images"
   ]
  },
  {
   "cell_type": "code",
   "execution_count": 55,
   "metadata": {},
   "outputs": [
    {
     "name": "stdout",
     "output_type": "stream",
     "text": [
      "57.582 ms\n"
     ]
    }
   ],
   "source": [
    "s = \"\"\"\\\n",
    "xsize, ysize = img.size\n",
    "img.resize((xsize*5, ysize*5))\n",
    "\"\"\"\n",
    "\n",
    "setup = \"\"\"\\\n",
    "from PIL import Image\n",
    "img = Image.open(\"img/mountainstream.png\")\n",
    "\"\"\"\n",
    "\n",
    "print(str(round((timeit.timeit(stmt = s, setup = setup, number = 14)/14)*1000, 3)) + \" ms\")"
   ]
  },
  {
   "cell_type": "markdown",
   "metadata": {},
   "source": [
    "## Test 4: Greyscaling Images"
   ]
  },
  {
   "cell_type": "code",
   "execution_count": 56,
   "metadata": {},
   "outputs": [
    {
     "name": "stdout",
     "output_type": "stream",
     "text": [
      "0.985 ms\n"
     ]
    }
   ],
   "source": [
    "s = \"\"\"\\\n",
    "PIL.ImageOps.grayscale(img)\n",
    "\"\"\"\n",
    "\n",
    "setup = \"\"\"\\\n",
    "import PIL\n",
    "img = PIL.Image.open(\"img/mountainstream.png\")\n",
    "from PIL import ImageOps\n",
    "\"\"\"\n",
    "\n",
    "print(str(round((timeit.timeit(stmt = s, setup = setup, number = 2264)/2264)*1000, 3)) + \" ms\")"
   ]
  },
  {
   "cell_type": "markdown",
   "metadata": {},
   "source": [
    "## Test 5: Applying Gaussian Blur"
   ]
  },
  {
   "cell_type": "code",
   "execution_count": 57,
   "metadata": {},
   "outputs": [
    {
     "name": "stdout",
     "output_type": "stream",
     "text": [
      "33.232 ms\n"
     ]
    }
   ],
   "source": [
    "s = \"\"\"\\\n",
    "gauss = img.filter(PIL.ImageFilter.GaussianBlur(radius=5))\n",
    "\"\"\"\n",
    "\n",
    "setup = \"\"\"\\\n",
    "import PIL\n",
    "img = PIL.Image.open(\"img/mountainstream.png\")\n",
    "from PIL import ImageFilter\n",
    "\"\"\"\n",
    "\n",
    "print(str(round((timeit.timeit(stmt = s, setup = setup, number = 113)/113)*1000, 3)) + \" ms\")"
   ]
  },
  {
   "cell_type": "markdown",
   "metadata": {},
   "source": [
    "## Test 6: Generating Histogram of Image"
   ]
  },
  {
   "cell_type": "code",
   "execution_count": 58,
   "metadata": {},
   "outputs": [
    {
     "name": "stdout",
     "output_type": "stream",
     "text": [
      "1.773 ms\n"
     ]
    }
   ],
   "source": [
    "s = \"\"\"\\\n",
    "img.histogram()\n",
    "\"\"\"\n",
    "\n",
    "setup = \"\"\"\\\n",
    "from PIL import Image\n",
    "img = Image.open(\"img/mountainstream.png\")\n",
    "\"\"\"\n",
    "\n",
    "print(str(round((timeit.timeit(stmt = s, setup = setup, number = 227)/227)*1000, 3)) + \" ms\")"
   ]
  },
  {
   "cell_type": "markdown",
   "metadata": {},
   "source": [
    "## Test 7: Changing colorscale to HSV"
   ]
  },
  {
   "cell_type": "code",
   "execution_count": 59,
   "metadata": {},
   "outputs": [
    {
     "name": "stdout",
     "output_type": "stream",
     "text": [
      "22.607 ms\n"
     ]
    }
   ],
   "source": [
    "s = \"\"\"\\\n",
    "img.convert('HSV')\n",
    "\"\"\"\n",
    "\n",
    "setup = \"\"\"\\\n",
    "import PIL\n",
    "img = PIL.Image.open(\"img/mountainstream.png\")\n",
    "from PIL import ImageOps\n",
    "\"\"\"\n",
    "\n",
    "print(str(round((timeit.timeit(stmt = s, setup = setup, number = 677)/677)*1000, 3)) + \" ms\")"
   ]
  },
  {
   "cell_type": "markdown",
   "metadata": {},
   "source": [
    "## Test 8: Calculating Integral Image (using scikit-image)"
   ]
  },
  {
   "cell_type": "code",
   "execution_count": 60,
   "metadata": {},
   "outputs": [
    {
     "name": "stdout",
     "output_type": "stream",
     "text": [
      "37.098 ms\n"
     ]
    }
   ],
   "source": [
    "s = \"\"\"\\\n",
    "skimage.transform.integral.integral_image(img)\n",
    "\"\"\"\n",
    "\n",
    "setup = \"\"\"\\\n",
    "import skimage\n",
    "from skimage import io, transform\n",
    "img = io.imread('img/mountainstream.png')\n",
    "\"\"\"\n",
    "\n",
    "print(str(round((timeit.timeit(stmt = s, setup = setup, number = 681)/681)*1000, 3)) + \" ms\")"
   ]
  },
  {
   "cell_type": "markdown",
   "metadata": {},
   "source": [
    "## Test 9: Rotating Image (90 Degree)"
   ]
  },
  {
   "cell_type": "code",
   "execution_count": 61,
   "metadata": {},
   "outputs": [
    {
     "name": "stdout",
     "output_type": "stream",
     "text": [
      "2.808 ms\n"
     ]
    }
   ],
   "source": [
    "s = \"\"\"\\\n",
    "img.rotate(90)\n",
    "\"\"\"\n",
    "\n",
    "setup = \"\"\"\\\n",
    "from PIL import Image\n",
    "img = Image.open(\"img/mountainstream.png\")\n",
    "\"\"\"\n",
    "print(str(round((timeit.timeit(stmt = s, setup = setup, number = 280)/280)*1000, 3)) + \" ms\")"
   ]
  },
  {
   "cell_type": "markdown",
   "metadata": {},
   "source": [
    "## Test 10 : Corner Detection using Harris Method (scikit-image)"
   ]
  },
  {
   "cell_type": "code",
   "execution_count": 62,
   "metadata": {},
   "outputs": [
    {
     "name": "stdout",
     "output_type": "stream",
     "text": [
      "112.88 ms\n"
     ]
    }
   ],
   "source": [
    "s = \"\"\"\\\n",
    "corners = skimage.feature.corner_harris(img[:, :, 0])\n",
    "\"\"\"\n",
    "\n",
    "setup = \"\"\"\\\n",
    "import skimage\n",
    "from skimage import io\n",
    "from skimage.feature import corner_harris\n",
    "img = io.imread('img/mountainstream.png')\n",
    "\"\"\"\n",
    "\n",
    "print(str(round((timeit.timeit(stmt = s, setup = setup, number = 59)/59)*1000, 3)) + \" ms\")"
   ]
  },
  {
   "cell_type": "markdown",
   "metadata": {},
   "source": [
    "## Test 11: Morphological Operations: Erosion"
   ]
  },
  {
   "cell_type": "code",
   "execution_count": 65,
   "metadata": {},
   "outputs": [
    {
     "name": "stdout",
     "output_type": "stream",
     "text": [
      "40561.481 μs\n"
     ]
    }
   ],
   "source": [
    "s = \"\"\"\\\n",
    "erode = skimage.morphology.binary_erosion(img, selem=None, out=None)\n",
    "\"\"\"\n",
    "\n",
    "setup = \"\"\"\\\n",
    "import skimage\n",
    "import numpy as np\n",
    "kernel = np.ones((5,5),np.uint8)\n",
    "from skimage import io\n",
    "from skimage.morphology import binary_erosion\n",
    "img = io.imread('img/mountainstream.png')\n",
    "\"\"\"\n",
    "\n",
    "print(str(round((timeit.timeit(stmt = s, setup = setup, number = 69)/69)*1000000, 3)) + \" μs\")"
   ]
  },
  {
   "cell_type": "markdown",
   "metadata": {},
   "source": [
    "## Test 12: Morphological Operations: Opening"
   ]
  },
  {
   "cell_type": "code",
   "execution_count": 66,
   "metadata": {},
   "outputs": [
    {
     "name": "stdout",
     "output_type": "stream",
     "text": [
      "68730.478 μs\n"
     ]
    }
   ],
   "source": [
    "s = \"\"\"\\\n",
    "erode = skimage.morphology.opening(img, selem=None, out=None)\n",
    "\"\"\"\n",
    "\n",
    "setup = \"\"\"\\\n",
    "import skimage\n",
    "import numpy as np\n",
    "kernel = np.ones((5,5),np.uint8)\n",
    "from skimage import io\n",
    "from skimage.morphology import binary_erosion\n",
    "img = io.imread('img/mountainstream.png')\n",
    "\"\"\"\n",
    "\n",
    "print(str(round((timeit.timeit(stmt = s, setup = setup, number = 69)/69)*1000000, 3)) + \" μs\")"
   ]
  },
  {
   "cell_type": "markdown",
   "metadata": {},
   "source": [
    "## Test 13: Morphological Operations: TopHat"
   ]
  },
  {
   "cell_type": "code",
   "execution_count": 68,
   "metadata": {},
   "outputs": [
    {
     "name": "stdout",
     "output_type": "stream",
     "text": [
      "65.544 ms\n"
     ]
    }
   ],
   "source": [
    "\n",
    "s = \"\"\"\\\n",
    "skimage.morphology.white_tophat(img, selem=None, out=None)\n",
    "\"\"\"\n",
    "\n",
    "setup = \"\"\"\\\n",
    "import skimage\n",
    "import numpy as np\n",
    "kernel = np.ones((5,5),np.uint8)\n",
    "from skimage import io\n",
    "from skimage.morphology import binary_erosion\n",
    "img = io.imread('img/mountainstream.png')\n",
    "\"\"\"\n",
    "\n",
    "print(str(round((timeit.timeit(stmt = s, setup = setup, number = 69)/69)*1000, 3)) + \" ms\")"
   ]
  },
  {
   "cell_type": "markdown",
   "metadata": {},
   "source": [
    "## Test 12: Morphological Operations: BottomHat"
   ]
  },
  {
   "cell_type": "code",
   "execution_count": 70,
   "metadata": {},
   "outputs": [
    {
     "name": "stdout",
     "output_type": "stream",
     "text": [
      "81.389 ms\n"
     ]
    }
   ],
   "source": [
    "\n",
    "s = \"\"\"\\\n",
    "skimage.morphology.black_tophat(img, selem=None, out=None)\n",
    "\"\"\"\n",
    "\n",
    "setup = \"\"\"\\\n",
    "import skimage\n",
    "import numpy as np\n",
    "kernel = np.ones((5,5),np.uint8)\n",
    "from skimage import io\n",
    "from skimage.morphology import binary_erosion\n",
    "img = io.imread('img/mountainstream.png')\n",
    "\"\"\"\n",
    "\n",
    "print(str(round((timeit.timeit(stmt = s, setup = setup, number = 69)/69)*1000, 3)) + \" ms\")"
   ]
  },
  {
   "cell_type": "markdown",
   "metadata": {},
   "source": [
    "Here I took a smaller number to get the average as on the exact number of samples, the scikit program ran indefinitely and then exceeded time limit."
   ]
  },
  {
   "cell_type": "code",
   "execution_count": null,
   "metadata": {},
   "outputs": [],
   "source": []
  }
 ],
 "metadata": {
  "kernelspec": {
   "display_name": "Python 3",
   "language": "python",
   "name": "python3"
  },
  "language_info": {
   "codemirror_mode": {
    "name": "ipython",
    "version": 3
   },
   "file_extension": ".py",
   "mimetype": "text/x-python",
   "name": "python",
   "nbconvert_exporter": "python",
   "pygments_lexer": "ipython3",
   "version": "3.6.9"
  }
 },
 "nbformat": 4,
 "nbformat_minor": 2
}
