{
 "cells": [
  {
   "cell_type": "markdown",
   "metadata": {},
   "source": [
    "## OpenCV(4.1.0) Benchmark File 1 Source"
   ]
  },
  {
   "cell_type": "code",
   "execution_count": 1,
   "metadata": {},
   "outputs": [],
   "source": [
    "\n",
    "import cv2\n",
    "import timeit"
   ]
  },
  {
   "cell_type": "markdown",
   "metadata": {},
   "source": [
    "## Test 1: Loading Images"
   ]
  },
  {
   "cell_type": "code",
   "execution_count": 56,
   "metadata": {},
   "outputs": [
    {
     "name": "stdout",
     "output_type": "stream",
     "text": [
      "25.222 ms\n"
     ]
    }
   ],
   "source": [
    "s = \"\"\"\\\n",
    "img = cv2.imread('img/mountainstream.png', 1)\n",
    "\"\"\"\n",
    "\n",
    "print(str(round((timeit.timeit(stmt = s, setup = \"import cv2\", number = 46)/46)*1000,3)) + \" ms\")"
   ]
  },
  {
   "cell_type": "markdown",
   "metadata": {},
   "source": [
    "## Test 3: Saving Images"
   ]
  },
  {
   "cell_type": "code",
   "execution_count": 57,
   "metadata": {},
   "outputs": [
    {
     "name": "stdout",
     "output_type": "stream",
     "text": [
      "40.224 ms\n"
     ]
    }
   ],
   "source": [
    "s = \"\"\"\\\n",
    "cv2.imwrite('copy_cv2.png', img)\n",
    "\"\"\"\n",
    "\n",
    "setup = \"\"\"\\\n",
    "import cv2\n",
    "img = cv2.imread('img/mountainstream.png', 1)\n",
    "\"\"\"\n",
    "\n",
    "print(str(round((timeit.timeit(stmt = s, setup = setup, number = 16)/16)*1000, 3)) + \" ms\")"
   ]
  },
  {
   "cell_type": "markdown",
   "metadata": {},
   "source": [
    "## Test 2: Resizing Images"
   ]
  },
  {
   "cell_type": "code",
   "execution_count": 58,
   "metadata": {},
   "outputs": [
    {
     "name": "stdout",
     "output_type": "stream",
     "text": [
      "33.105 ms\n"
     ]
    }
   ],
   "source": [
    "s = \"\"\"\\\n",
    "cv2.resize(img, None, fx=2, fy=2, interpolation = cv2.INTER_CUBIC)\n",
    "\"\"\"\n",
    "\n",
    "setup = \"\"\"\\\n",
    "import cv2\n",
    "img = cv2.imread('img/mountainstream.png', 1)\n",
    "\"\"\"\n",
    "\n",
    "print(str(round((timeit.timeit(stmt = s, setup = setup, number = 14)/14)*1000, 3)) + \" ms\")"
   ]
  },
  {
   "cell_type": "markdown",
   "metadata": {},
   "source": [
    "## Test 4: Greyscaling Images"
   ]
  },
  {
   "cell_type": "code",
   "execution_count": 59,
   "metadata": {},
   "outputs": [
    {
     "name": "stdout",
     "output_type": "stream",
     "text": [
      "0.269 ms\n"
     ]
    }
   ],
   "source": [
    "cv2.COLOR_BGR2GRAY\n",
    "s = \"\"\"\\\n",
    "gray = cv2.cvtColor(img, cv2.COLOR_BGR2GRAY)\n",
    "\"\"\"\n",
    "\n",
    "setup = \"\"\"\\\n",
    "import cv2\n",
    "img = cv2.imread('img/mountainstream.png', 1)\n",
    "\"\"\"\n",
    "\n",
    "print(str(round((timeit.timeit(stmt = s, setup = setup, number = 2264)/2264)*1000, 3)) + \" ms\")"
   ]
  },
  {
   "cell_type": "markdown",
   "metadata": {},
   "source": [
    "## Test 5: Applying Gaussian Blur"
   ]
  },
  {
   "cell_type": "code",
   "execution_count": 60,
   "metadata": {},
   "outputs": [
    {
     "name": "stdout",
     "output_type": "stream",
     "text": [
      "4.007 ms\n"
     ]
    }
   ],
   "source": [
    "s = \"\"\"\\\n",
    "gauss = cv2.GaussianBlur(img, (5,5), cv2.BORDER_DEFAULT)\n",
    "\"\"\"\n",
    "\n",
    "setup = \"\"\"\\\n",
    "import cv2\n",
    "img = cv2.imread('img/mountainstream.png', 1)\n",
    "\"\"\"\n",
    "\n",
    "print(str(round((timeit.timeit(stmt = s, setup = setup, number = 113)/113)*1000, 3)) + \" ms\")"
   ]
  },
  {
   "cell_type": "markdown",
   "metadata": {},
   "source": [
    "## Test 6: Generating Histogram of Image"
   ]
  },
  {
   "cell_type": "code",
   "execution_count": 61,
   "metadata": {},
   "outputs": [
    {
     "name": "stdout",
     "output_type": "stream",
     "text": [
      "1.29 ms\n"
     ]
    }
   ],
   "source": [
    "s = \"\"\"\\\n",
    "hist = cv2.calcHist([img],[0],None,[256],[0,256])\n",
    "\"\"\"\n",
    "\n",
    "setup = \"\"\"\\\n",
    "import cv2\n",
    "img = cv2.imread('img/mountainstream.png', 1)\n",
    "\"\"\"\n",
    "\n",
    "print(str(round((timeit.timeit(stmt = s, setup = setup, number = 227)/227)*1000, 3)) + \" ms\")"
   ]
  },
  {
   "cell_type": "markdown",
   "metadata": {},
   "source": [
    "## Test 7: Changing colorscale to HSV"
   ]
  },
  {
   "cell_type": "code",
   "execution_count": 62,
   "metadata": {},
   "outputs": [
    {
     "name": "stdout",
     "output_type": "stream",
     "text": [
      "3.675 ms\n"
     ]
    }
   ],
   "source": [
    "s = \"\"\"\\\n",
    "gray = cv2.cvtColor(img, cv2.COLOR_BGR2HSV)\n",
    "\"\"\"\n",
    "\n",
    "setup = \"\"\"\\\n",
    "import cv2\n",
    "img = cv2.imread('img/mountainstream.png', 1)\n",
    "\"\"\"\n",
    "\n",
    "print(str(round((timeit.timeit(stmt = s, setup = setup, number = 677)/677)*1000, 3)) + \" ms\")"
   ]
  },
  {
   "cell_type": "markdown",
   "metadata": {},
   "source": [
    "## Test 8: Calculating Integral Image"
   ]
  },
  {
   "cell_type": "code",
   "execution_count": 63,
   "metadata": {},
   "outputs": [
    {
     "name": "stdout",
     "output_type": "stream",
     "text": [
      "0.226 ms\n"
     ]
    }
   ],
   "source": [
    "s=\"\"\"\\\n",
    "integral_image = cv2.integral(img)\n",
    "\"\"\"\n",
    "\n",
    "setup = \"\"\"\\\n",
    "import cv2\n",
    "img = cv2.imread('img/mountainsteam.png', 1)\n",
    "\"\"\"\n",
    "\n",
    "print(str(round((timeit.timeit(stmt = s, setup = setup, number = 681)/681)*1000, 3)) + \" ms\")"
   ]
  },
  {
   "cell_type": "markdown",
   "metadata": {},
   "source": [
    "## Test 9: Rotating Image (90 Degrees)"
   ]
  },
  {
   "cell_type": "code",
   "execution_count": 64,
   "metadata": {
    "scrolled": true
   },
   "outputs": [
    {
     "name": "stdout",
     "output_type": "stream",
     "text": [
      "4.317 ms\n"
     ]
    }
   ],
   "source": [
    "# source : https://www.pyimagesearch.com/2017/01/02/rotate-images-correctly-with-opencv-and-python/\n",
    "s = \"\"\"\\\n",
    "size = img.shape\n",
    "M = cv2.getRotationMatrix2D((size[0]/2,size[1]/2),90, 1)\n",
    "dst = cv2.warpAffine(img,M,(size[0],size[1]))\n",
    "\"\"\"\n",
    "\n",
    "setup = \"\"\"\\\n",
    "import cv2\n",
    "img = cv2.imread('img/mountainstream.png', 1)\n",
    "\"\"\"\n",
    "\n",
    "print(str(round((timeit.timeit(stmt = s, setup = setup, number = 280)/280)*1000, 3)) + \" ms\")"
   ]
  },
  {
   "cell_type": "markdown",
   "metadata": {},
   "source": [
    "## Test 10: Corner Detection using Harris Method"
   ]
  },
  {
   "cell_type": "code",
   "execution_count": 65,
   "metadata": {},
   "outputs": [
    {
     "name": "stdout",
     "output_type": "stream",
     "text": [
      "22.802 ms\n"
     ]
    }
   ],
   "source": [
    "s = \"\"\"\\\n",
    "corners = cv2.cornerHarris(src_gray, 2, 3, 0.04)\n",
    "\"\"\"\n",
    "\n",
    "setup = \"\"\"\\\n",
    "import cv2\n",
    "img = cv2.imread('img/mountainstream.png', 1)\n",
    "src_gray = cv2.cvtColor(img, cv2.COLOR_BGR2GRAY)\n",
    "\"\"\"\n",
    "\n",
    "print(str(round((timeit.timeit(stmt = s, setup = setup, number = 59)/59)*1000, 3)) + \" ms\")"
   ]
  },
  {
   "cell_type": "markdown",
   "metadata": {},
   "source": [
    "## Test 11: Morphological Operations- Erosion"
   ]
  },
  {
   "cell_type": "code",
   "execution_count": 67,
   "metadata": {},
   "outputs": [
    {
     "name": "stdout",
     "output_type": "stream",
     "text": [
      "1190.893 μs\n"
     ]
    }
   ],
   "source": [
    "\n",
    "s = \"\"\"\\\n",
    "erosion = cv2.erode(img,kernel,iterations = 1)\n",
    "\"\"\"\n",
    "\n",
    "setup = \"\"\"\\\n",
    "import cv2\n",
    "import numpy as np\n",
    "img = cv2.imread('img/mountainstream.png', 1)\n",
    "kernel = np.ones((5,5),np.uint8)\n",
    "\"\"\"\n",
    "\n",
    "print(str(round((timeit.timeit(stmt = s, setup = setup, number = 7020)/7020)*1000000, 3)) + \" μs\")"
   ]
  },
  {
   "cell_type": "markdown",
   "metadata": {},
   "source": [
    "## Test 12: Morphological Operations- Opening"
   ]
  },
  {
   "cell_type": "code",
   "execution_count": 68,
   "metadata": {},
   "outputs": [
    {
     "name": "stdout",
     "output_type": "stream",
     "text": [
      "1587.633 μs\n"
     ]
    }
   ],
   "source": [
    "\n",
    "s = \"\"\"\\\n",
    "opening = cv2.morphologyEx(img, cv2.MORPH_OPEN, kernel)\n",
    "\"\"\"\n",
    "\n",
    "setup = \"\"\"\\\n",
    "import cv2\n",
    "import numpy as np\n",
    "img = cv2.imread('img/mountainstream.png', 1)\n",
    "kernel = np.ones((5,5),np.uint8)\n",
    "\"\"\"\n",
    "\n",
    "print(str(round((timeit.timeit(stmt = s, setup = setup, number = 7595)/7595)*1000000, 3)) + \" μs\")"
   ]
  },
  {
   "cell_type": "markdown",
   "metadata": {},
   "source": [
    "## Test 13: Morphological Operations - TopHat"
   ]
  },
  {
   "cell_type": "code",
   "execution_count": 71,
   "metadata": {},
   "outputs": [
    {
     "name": "stdout",
     "output_type": "stream",
     "text": [
      "1.82 ms\n"
     ]
    }
   ],
   "source": [
    "\n",
    "s = \"\"\"\\\n",
    "tophat = cv2.morphologyEx(img, cv2.MORPH_TOPHAT, kernel)\n",
    "\"\"\"\n",
    "\n",
    "setup = \"\"\"\\\n",
    "import cv2\n",
    "import numpy as np\n",
    "img = cv2.imread('img/mountainstream.png', 1)\n",
    "kernel = np.ones((9,9),np.uint8)\n",
    "\"\"\"\n",
    "\n",
    "print(str(round((timeit.timeit(stmt = s, setup = setup, number = 2937)/2937)*1000, 3)) + \" ms\")"
   ]
  },
  {
   "cell_type": "markdown",
   "metadata": {},
   "source": [
    "## Test 14: Morphological Operation - BottomHat"
   ]
  },
  {
   "cell_type": "code",
   "execution_count": 72,
   "metadata": {},
   "outputs": [
    {
     "name": "stdout",
     "output_type": "stream",
     "text": [
      "1.913 ms\n"
     ]
    }
   ],
   "source": [
    "\n",
    "s = \"\"\"\\\n",
    "blackhat = cv2.morphologyEx(img, cv2.MORPH_BLACKHAT, kernel)\n",
    "\"\"\"\n",
    "\n",
    "setup = \"\"\"\\\n",
    "import cv2\n",
    "import numpy as np\n",
    "img = cv2.imread('img/mountainstream.png', 1)\n",
    "kernel = np.ones((9,9),np.uint8)\n",
    "\"\"\"\n",
    "\n",
    "print(str(round((timeit.timeit(stmt = s, setup = setup, number = 3346)/3346)*1000, 3)) + \" ms\")"
   ]
  },
  {
   "cell_type": "code",
   "execution_count": null,
   "metadata": {},
   "outputs": [],
   "source": []
  }
 ],
 "metadata": {
  "kernelspec": {
   "display_name": "Python 3",
   "language": "python",
   "name": "python3"
  },
  "language_info": {
   "codemirror_mode": {
    "name": "ipython",
    "version": 3
   },
   "file_extension": ".py",
   "mimetype": "text/x-python",
   "name": "python",
   "nbconvert_exporter": "python",
   "pygments_lexer": "ipython3",
   "version": "3.6.9"
  }
 },
 "nbformat": 4,
 "nbformat_minor": 2
}
